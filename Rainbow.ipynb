{
  "nbformat": 4,
  "nbformat_minor": 0,
  "metadata": {
    "colab": {
      "name": "Rainbow.ipynb",
      "provenance": [],
      "collapsed_sections": [],
      "toc_visible": true,
      "include_colab_link": true
    },
    "kernelspec": {
      "name": "python3",
      "display_name": "Python 3"
    }
  },
  "cells": [
    {
      "cell_type": "markdown",
      "metadata": {
        "id": "view-in-github",
        "colab_type": "text"
      },
      "source": [
        "<a href=\"https://colab.research.google.com/github/Rashmiray211/Rainbow/blob/main/Rainbow.ipynb\" target=\"_parent\"><img src=\"https://colab.research.google.com/assets/colab-badge.svg\" alt=\"Open In Colab\"/></a>"
      ]
    },
    {
      "cell_type": "markdown",
      "metadata": {
        "id": "E2rgmcEIJ7Ao"
      },
      "source": [
        "Note:I have used https://www.ndtv.com for collecting the data."
      ]
    },
    {
      "cell_type": "markdown",
      "metadata": {
        "id": "9G7BZwyrAp34"
      },
      "source": [
        "#Importing all the libraries"
      ]
    },
    {
      "cell_type": "code",
      "metadata": {
        "id": "4sFhM_NgCiP8"
      },
      "source": [
        "import urllib.request\n",
        "from bs4 import BeautifulSoup\n",
        "import requests\n",
        "import csv"
      ],
      "execution_count": null,
      "outputs": []
    },
    {
      "cell_type": "markdown",
      "metadata": {
        "id": "t_UnSdNzAz8M"
      },
      "source": [
        "#Code"
      ]
    },
    {
      "cell_type": "markdown",
      "metadata": {
        "id": "R_gLINP6H57j"
      },
      "source": [
        "#For extracting urls of various pages from the website"
      ]
    },
    {
      "cell_type": "code",
      "metadata": {
        "id": "SiGkeJC0Csyt"
      },
      "source": [
        "url_p=[]#List for storing the url's for different pages \n",
        "all_data=[]#List containing all data\n",
        "page_href=[]#list for storing hrefs of a page\n",
        "all_hrefs=[]#list for storing hrefs of all the pages\n",
        "j=0\n",
        "for i in range(1,15):\n",
        "  url_p.append('https://www.ndtv.com/india/page-'+str(i))"
      ],
      "execution_count": null,
      "outputs": []
    },
    {
      "cell_type": "markdown",
      "metadata": {
        "id": "q7wpLUnxILgR"
      },
      "source": [
        "#For extracting the urls(hrefs) of various news that are inside the above pages"
      ]
    },
    {
      "cell_type": "code",
      "metadata": {
        "id": "I-dL1X13CspQ",
        "colab": {
          "base_uri": "https://localhost:8080/"
        },
        "outputId": "06aa0fa8-e129-4a11-bb36-05c7fad211df"
      },
      "source": [
        "for url1 in url_p:\n",
        "  page1 = requests.get(url1)\n",
        "  soup1 = BeautifulSoup(page1.content,'html.parser')\n",
        "  for data1 in soup1.find_all('h2'):#find all <h2> tags in a page\n",
        "       for a in data1.find_all('a'):#find all <a> tags in those <h2> tags\n",
        "         page_href.append(a.get('href'))#find all hrefs in those <a> tags\n",
        "[all_hrefs.append(x) for x in page_href if x not in all_hrefs]\n",
        "print(len(all_hrefs))\n",
        "print(all_hrefs)"
      ],
      "execution_count": null,
      "outputs": [
        {
          "output_type": "stream",
          "text": [
            "200\n",
            "['https://www.ndtv.com/india-news/gurgaon-health-worker-who-got-vaccine-last-week-dies-autopsy-awaited-2356650', 'https://www.ndtv.com/india-news/centre-unilateral-on-key-issues-must-consult-states-for-federalism-jharkhand-chief-minister-hemant-soren-2356638', 'https://www.ndtv.com/india-news/adar-poonawalla-on-serum-institute-fire-no-actual-vaccine-was-being-produced-at-that-facility-no-damage-to-vaccine-2356633', 'https://www.ndtv.com/india-news/congress-leader-digvijaya-singhs-tongue-is-his-enemy-says-bjp-leader-uma-bharti-2356614', 'https://www.ndtv.com/india-news/sharad-pawar-to-take-part-in-mumbai-event-in-support-of-agitating-farmers-2356609', 'https://www.ndtv.com/india-news/gujarat-cops-to-soon-wear-body-cameras-will-check-conduct-chief-minister-vijay-rupani-2356608', 'https://www.ndtv.com/india-news/enforcement-directorate-raids-premises-linked-to-maharashtra-mla-in-pmc-bank-case-report-2356580', 'https://www.ndtv.com/india-news/covaxin-phase-1-trial-clears-lancet-review-phase-3-trial-ongoing-2356577', 'https://www.ndtv.com/india-news/election-body-chief-sunil-arora-have-zero-tolerance-to-money-and-muscle-power-2356574', 'https://www.ndtv.com/india-news/dont-let-ego-come-in-way-uma-bhartis-advice-over-farmers-protest-2356573', 'https://www.ndtv.com/india-news/india-sends-covid-19-vaccine-doses-to-mauritius-seychelles-2356563', 'https://www.ndtv.com/india-news/indian-mathematician-nikhil-srivastava-named-joint-winner-of-michael-and-sheila-held-prize-2356560', 'https://www.ndtv.com/india-news/former-chief-justice-of-india-ranjan-gogoi-given-z-vip-security-cover-report-2356552', 'https://www.ndtv.com/india-news/2-sri-lankans-carrying-heroin-worth-rs-1-000-crore-arrested-in-chennai-2356548', 'https://www.ndtv.com/india-news/narendra-chanchal-popular-bhajan-singer-dies-pm-tweets-condolences-2356535', 'https://www.ndtv.com/india-news/hathras-gang-rape-kerala-journalist-siddique-kappan-supreme-court-oks-jailed-kerala-journalists-video-call-with-unwell-mother-2356520', 'https://www.ndtv.com/india-news/6-migrant-workers-from-assam-dead-after-falling-into-pit-in-forest-in-meghalaya-2356519', 'https://www.ndtv.com/india-news/pm-narendra-modi-interacts-with-covid-vaccine-beneficiaries-in-his-constituency-varanasi-2356509', 'https://www.ndtv.com/india-news/yak-riding-at-minus-20-degrees-is-part-of-this-winter-sports-event-see-pics-2356505', 'https://www.ndtv.com/india-news/prime-minister-narendra-modi-says-medical-infrastructure-in-varanasi-transformed-in-last-6-years-2356496', 'https://www.ndtv.com/india-news/congress-president-election-after-state-polls-decision-after-row-at-meet-2356489', 'https://www.ndtv.com/india-news/india-calls-out-pak-on-un-resolution-on-peace-says-cant-hide-behind-un-resolution-2356488', 'https://www.ndtv.com/india-news/coronavirus-six-days-into-covid-19-vaccination-drive-india-crosses-million-mark-2356477', 'https://www.ndtv.com/india-news/tussle-between-trinamool-bjp-over-netajis-125th-birth-anniversary-2356474', 'https://www.ndtv.com/india-news/sonu-sood-moves-top-court-over-civic-bodys-illegal-construction-claim-2356466', 'https://www.ndtv.com/india-news/mumbai-woman-withdraws-rape-complaint-against-maharashtra-minister-dhananjay-munde-2356456', 'https://www.ndtv.com/india-news/wife-not-father-only-person-having-right-over-dead-mans-frozen-sperm-calcutta-high-court-2356448', 'https://www.ndtv.com/india-news/rajib-banerjee-bengal-forest-minister-resigns-amid-recent-string-of-exits-from-mamata-banerjees-trinamool-congress-2356417', 'https://www.ndtv.com/india-news/sonia-gandhi-slams-centres-shocking-insensitivity-and-arrogance-towards-farmers-2356415', 'https://www.ndtv.com/india-news/coronavirus-india-starts-commercial-covid-19-vaccine-exports-today-2356406', 'https://www.ndtv.com/india-news/sonia-gandhi-on-tv-anchors-whatsapp-chats-government-silence-deafening-2356404', 'https://www.ndtv.com/india-news/now-arrest-me-tejashwi-yadav-dares-nitish-kumar-over-new-order-2356394', 'https://www.ndtv.com/india-news/rs-28-crore-worth-gold-seized-in-major-smuggling-bust-at-indo-myanmar-border-2356390', 'https://www.ndtv.com/india-news/imfs-gita-gopinath-tweets-amitabh-bachchans-kbc-video-some-point-to-his-sexist-remark-2356388', 'https://www.ndtv.com/india-news/kamala-harris-as-vice-president-further-cements-us-india-ties-white-house-2356384', 'https://www.ndtv.com/india-news/pm-narendra-modi-cites-indian-cricket-team-australia-win-says-positive-mindset-leads-to-positive-results-which-is-aatmanirbhar-bharat-essence-2356362', 'https://www.ndtv.com/india-news/republic-day-2021-delhi-traffic-diversions-for-full-dress-rehearsal-tomorrow-2356347', 'https://www.ndtv.com/india-news/vk-sasikala-getting-covid-19-treatment-under-standard-protocol-says-victoria-hospital-2356341', 'https://www.ndtv.com/india-news/rahul-gandhi-calls-for-in-depth-investigation-on-blast-at-quarry-in-karnataka-2356319', 'https://www.ndtv.com/india-news/cbi-files-case-against-uk-based-cambridge-analytica-for-illegal-harvesting-of-personal-data-from-facebook-2356318', 'https://www.ndtv.com/india-news/china-replies-on-ndtv-report-on-arunachal-pradesh-village-says-normal-construction-on-own-territory-2356308', 'https://www.ndtv.com/india-news/4-cops-in-uniform-stop-up-jeweller-for-checking-on-road-they-rob-him-2356307', 'https://www.ndtv.com/india-news/weather-news-dense-fog-over-pockets-in-delhi-punjab-haryana-east-up-bihar-2356303', 'https://www.ndtv.com/india-news/rattled-nitish-kumar-bringrattled-nitish-kumar-makes-offensive-anti-government-social-media-posts-a-crimes-social-media-posts-offending-government-und-2356287', 'https://www.ndtv.com/india-news/trinamool-congress-leader-abhishek-banerjee-sends-legal-notice-to-suvendu-adhikari-seeks-apology-over-remarks-2356285', 'https://www.ndtv.com/india-news/3-000-assam-villagers-on-protest-for-over-a-month-district-office-mobbed-2356284', 'https://www.ndtv.com/india-news/ahead-of-pms-visit-to-assam-congress-poses-24-questions-for-him-2356276', 'https://www.ndtv.com/india-news/high-court-refuses-to-stay-release-of-the-white-tiger-on-netflix-2356271', 'https://www.ndtv.com/india-news/clash-at-bjp-party-offices-in-bengal-vehicles-set-on-fire-2356269', 'https://www.ndtv.com/india-news/election-commission-asks-west-bengal-police-to-execute-all-pending-non-bailable-warrants-2356266', 'https://www.ndtv.com/india-news/maharashtra-ncp-minister-jayant-patil-says-every-politician-wants-to-be-a-chief-minister-so-do-i-2356257', 'https://www.ndtv.com/india-news/maharashtra-chief-minister-uddhav-thackeray-to-visit-serum-institute-facility-today-after-fire-incident-2356256', 'https://www.ndtv.com/india-news/prime-minister-narendra-modi-india-remains-committed-to-assist-nepal-in-fighting-covid-19-2356249', 'https://www.ndtv.com/india-news/oil-workers-kidnapped-in-arunachal-seen-in-video-pleading-for-release-2356246', 'https://www.ndtv.com/india-news/coronavirus-news-live-updates-15-223-new-covid-cases-recorded-in-india-on-thursday-2356245', 'https://www.ndtv.com/india-news/kamala-harris-as-vice-president-further-cements-india-us-relationship-white-house-2356240', 'https://www.ndtv.com/india-news/four-arrested-for-allegedly-selling-wheat-flour-in-bags-with-reliance-jio-logo-in-gujarats-surat-police-2356236', 'https://www.ndtv.com/india-news/russian-covid-vaccine-sputnik-v-in-phase-3-trial-to-cost-less-than-usd-10-per-shot-in-india-2356235', 'https://www.ndtv.com/india-news/former-bihar-chief-minister-lalu-prasad-has-infection-in-lungs-condition-stable-says-rajendra-institute-of-medical-sciences-director-kameshwar-prasad-2356231', 'https://www.ndtv.com/india-news/bjp-leader-shahnawaz-hussain-bihar-minister-mukesh-sahni-elected-unopposed-to-state-legislative-council-2356230', 'https://www.ndtv.com/india-news/brain-tumour-removed-through-16-month-old-girls-nose-at-post-graduate-institute-of-medical-education-and-research-in-chandigarh-2356228', 'https://www.ndtv.com/india-news/maharashtra-mps-should-meet-pm-modi-on-karnataka-border-issue-uddhav-thackeray-2356223', 'https://www.ndtv.com/india-news/misconception-that-only-punjab-haryana-farmers-against-farm-laws-jharkhand-chief-minister-hemant-soren-2356220', 'https://www.ndtv.com/india-news/punjab-gives-rs-5-lakh-each-to-families-of-4-farmers-who-died-during-farm-protests-2356219', 'https://www.ndtv.com/india-news/india-to-face-higher-security-challenges-in-line-with-rising-stature-army-chief-2356216', 'https://www.ndtv.com/india-news/kamala-harriss-uncle-in-india-says-will-visit-us-after-vaccination-2356213', 'https://www.ndtv.com/india-news/india-to-begin-covid-vaccine-exports-to-brazil-morocco-from-friday-2356209', 'https://www.ndtv.com/india-news/tandav-director-served-notice-by-up-cops-asked-to-appear-for-probe-on-jan-27-2356208', 'https://www.ndtv.com/india-news/opposition-in-bihar-to-hold-week-long-stir-against-farm-laws-tejashwi-yadav-2356204', 'https://www.ndtv.com/india-news/manipur-tops-among-northeast-states-in-india-innovation-index-2020-2356201', 'https://www.ndtv.com/india-news/5-year-old-girl-raped-killed-in-maharashtra-cops-2356197', 'https://www.ndtv.com/india-news/gujarat-chief-minister-vijay-rupani-donates-rs-5-lakh-for-ram-temple-construction-2356193', 'https://www.ndtv.com/india-news/wont-allow-forcible-eviction-of-refugees-from-centre-owned-land-mamata-banerjee-2356189', 'https://www.ndtv.com/india-news/west-bengal-governor-jagdeep-dhankhar-donates-rs-5-lakh-for-ram-temple-construction-2356185', 'https://www.ndtv.com/india-news/man-dies-while-playing-kabaddi-in-chhattisgarh-2356183', 'https://www.ndtv.com/india-news/21-21-21-1-2021-todays-a-day-that-comes-once-in-a-lifetime-2356174', 'https://www.ndtv.com/india-news/145-people-infected-with-uk-coronavirus-strain-in-india-centre-2356173', 'https://www.ndtv.com/india-news/pirzada-abbas-siddiqui-announces-indian-secular-front-isf-for-bengal-elections-2356170', 'https://www.ndtv.com/india-news/centre-approves-construction-of-1-68-lakh-houses-under-pm-housing-scheme-2356159', 'https://www.ndtv.com/india-news/indias-vaccine-diplomacy-in-south-asia-pushes-back-against-china-2356158', 'https://www.ndtv.com/india-news/9-99-lakh-healthcare-workers-received-vaccine-shots-till-now-centre-2356157', 'https://www.ndtv.com/india-news/twitter-grilled-on-blocking-amit-shah-account-at-parliamentary-panel-meet-2356153', 'https://www.ndtv.com/india-news/plea-against-bail-to-samajwadi-partys-azam-khan-in-forgery-case-quashed-2356138', 'https://www.ndtv.com/india-news/yellow-weather-warning-issued-for-himachal-tomorrow-weather-office-2356131', 'https://www.ndtv.com/india-news/farmers-reject-governments-proposal-to-pause-farm-laws-for-1-5-years-want-full-repeal-2356130', 'https://www.ndtv.com/india-news/12-candidates-including-10-from-bjp-elected-unopposed-to-up-legislative-council-2356129', 'https://www.ndtv.com/telangana-news/telangana-government-to-implement-10-quota-for-economically-weaker-sections-2356124', 'https://www.ndtv.com/india-news/income-tax-officials-seize-rs-10-crore-in-unaccounted-cash-in-maharashtras-thane-2356123', 'https://www.ndtv.com/india-news/violence-breaks-out-outside-bjp-office-in-bengals-bardhaman-vehicles-set-on-fire-2356121', 'https://www.ndtv.com/delhi-news/expeditiously-allot-flats-to-people-living-in-identified-slums-arvind-kejriwal-to-officialas-2356120', 'https://www.ndtv.com/india-news/eliminated-215-terrorists-in-jammu-and-kashmir-in-2020-says-crpf-2356119', 'https://www.ndtv.com/india-news/air-quality-improves-but-still-very-poor-in-ghaziabad-noida-faridabad-2356118', 'https://www.ndtv.com/india-news/maharashtra-teen-rescued-from-kidnapper-accused-arrested-police-2356117', 'https://www.ndtv.com/india-news/self-reliance-in-defence-is-strategic-necessity-says-army-chief-general-manoj-mukund-naravane-2356095', 'https://www.ndtv.com/india-news/covid-19-vaccination-pm-modi-to-interact-with-varanasi-beneficiaries-on-friday-2356093', 'https://www.ndtv.com/india-news/man-arrested-with-pangolin-scales-in-west-bengal-2356091', 'https://www.ndtv.com/india-news/army-soldier-killed-in-action-in-pakistani-firing-along-loc-in-jammu-and-kashmirs-poonch-2356089', 'https://www.ndtv.com/india-news/lok-sabha-speaker-om-birlas-daughter-anjali-birla-says-taken-aback-by-ias-backdoor-entry-charge-2356073', 'https://www.ndtv.com/india-news/53-000-poultry-birds-to-be-culled-at-punjabs-mohali-to-stop-spread-of-bird-flu-2356072', 'https://www.ndtv.com/india-news/happy-she-remembered-her-mother-kamala-harriss-uncle-on-her-speeches-2356069', 'https://www.ndtv.com/india-news/covid-19-vaccination-day-2-of-coronavirus-vaccination-drive-in-uttar-pradesh-on-friday-2356061', 'https://www.ndtv.com/india-news/madhya-pradesh-assembly-session-cancelled-covid-19-blamed-but-2356056', 'https://www.ndtv.com/india-news/hindustan-aeronautics-limited-hal-successfully-test-fires-smart-anti-airfield-weapon-saaw-from-hawk-i-aircraft-2356041', 'https://www.ndtv.com/india-news/judiciary-probe-agencies-should-act-independently-bombay-high-court-2356028', 'https://www.ndtv.com/india-news/we-are-apolitical-border-security-force-bsf-on-trinamool-congress-threatening-voters-allegations-2356015', 'https://www.ndtv.com/india-news/supreme-court-appointed-panel-starts-consultation-on-farm-laws-in-8-states-2356006', 'https://www.ndtv.com/india-news/kumbh-mela-2021-uttarakhand-government-asks-centre-for-more-covid-vaccines-2356001', 'https://www.ndtv.com/india-news/relocate-metro-car-shed-to-aarey-devendra-fadnavis-writes-to-maharashtra-chief-minister-uddhav-thackeray-2355993', 'https://www.ndtv.com/india-news/adar-poonawala-to-ndtv-on-serum-institute-fire-well-assess-damage-later-2355990', 'https://www.ndtv.com/india-news/governors-decision-on-release-of-rajiv-gandhi-killers-in-3-4-days-top-court-told-2355984', 'https://www.ndtv.com/india-news/wont-tolerate-such-things-says-madhya-pradesh-home-minister-narottam-mishra-on-web-series-tandav-2355981', 'https://www.ndtv.com/india-news/facebook-to-face-parliament-panel-over-whatsapp-policy-report-2355975', 'https://www.ndtv.com/india-news/priya-ramani-deleting-twitter-account-merits-another-case-mj-akbar-to-court-2355973', 'https://www.ndtv.com/india-news/fire-at-serum-institute-live-updates-2355971', 'https://www.ndtv.com/india-news/driving-on-wrong-side-in-gurgaon-may-lead-to-licence-ban-police-2355970', 'https://www.ndtv.com/india-news/we-are-indians-protests-break-out-over-new-china-village-in-arunachal-territory-2355965', 'https://www.ndtv.com/india-news/bsf-threatening-voters-in-border-areas-trinamool-congress-complains-to-election-commission-2355953', 'https://www.ndtv.com/india-news/nepal-bangladesh-receive-coronavirus-vaccines-sent-by-india-2355943', 'https://www.ndtv.com/andhra-pradesh-news/andhra-pradesh-high-court-gives-nod-to-conduct-village-panchayat-polls-in-state-2355939', 'https://www.ndtv.com/india-news/republic-day-tractor-rally-no-progress-at-meeting-between-police-farmer-unions-2355925', 'https://www.ndtv.com/india-news/fire-breaks-out-at-building-under-construction-at-serum-institute-of-india-in-pune-2355918', 'https://www.ndtv.com/india-news/bjp-mp-gautam-gambhir-contributes-rs-1-crore-for-ram-temple-construction-2355910', 'https://www.ndtv.com/india-news/netaji-anniversary-land-allotment-pm-modi-set-for-west-bengal-assam-poll-campaign-2355908', 'https://www.ndtv.com/india-news/key-portfolios-go-to-new-ministers-in-bs-yediyurappas-cabinet-2355906', 'https://www.ndtv.com/india-news/mirzapur-controversy-now-in-supreme-court-too-10-points-2355905', 'https://www.ndtv.com/india-news/vk-sasikalas-health-normal-and-stable-hospital-2355900', 'https://www.ndtv.com/india-news/ncb-raids-mephedrone-drug-manufacturing-unit-in-mumbai-2355898', 'https://www.ndtv.com/india-news/world-surprised-at-indian-economys-v-shaped-recovery-amit-shah-2355896', 'https://www.ndtv.com/india-news/health-minister-harsh-vardhan-singh-says-covid-vaccines-competely-safe-ignore-rumours-2355891', 'https://www.ndtv.com/india-news/indias-economy-has-seen-the-worst-barring-another-covid-wave-reserve-bank-of-india-2355888', 'https://www.ndtv.com/india-news/paramilitary-force-crpf-may-include-women-in-cobra-commando-battalions-2355883', 'https://www.ndtv.com/world-news/dalai-lama-congratulates-joe-biden-for-being-sworn-in-as-us-president-2355855', 'https://www.ndtv.com/india-news/covid-19-active-caseload-further-dips-to-1-8-of-total-cases-centre-2355846', 'https://www.ndtv.com/karnataka-news/bs-yediyurappa-allocates-portfolios-in-new-karnataka-cabinet-details-here-2355835', 'https://www.ndtv.com/india-news/5-months-after-death-of-dheeraj-ahlawat-vice-president-yes-bank-cbi-takes-over-murder-case-2355819', 'https://www.ndtv.com/india-news/farm-unions-meet-delhi-police-over-republic-day-tractor-rally-report-2355813', 'https://www.ndtv.com/india-news/web-series-mirzapur-and-amazon-prime-get-supreme-court-notice-over-complaint-that-it-maligns-image-of-up-2355807', 'https://www.ndtv.com/mumbai-news/bombay-high-court-rejects-actor-sonu-soods-plea-against-illegal-construction-notice-2355802', 'https://www.ndtv.com/india-news/goli-maaro-3-bjp-workers-arrested-in-bengal-for-incendiary-slogans-2355798', 'https://www.ndtv.com/india-news/india-weather-news-dense-fog-in-parts-of-north-india-minimum-temperature-dips-in-maharashtra-2355794', 'https://www.ndtv.com/india-news/body-of-priest-found-in-lucknow-temple-premises-2355791', 'https://www.ndtv.com/india-news/kannada-actor-ragini-dwivedi-gets-bail-from-supreme-court-in-drugs-case-2355779', 'https://www.ndtv.com/india-news/pm-modi-to-get-vaccinated-for-covid-in-second-phase-of-inoculation-drive-sources-2355759', 'https://www.ndtv.com/india-news/this-is-tejashwi-yadav-speaking-a-phone-call-in-bihar-is-going-viral-2355749', 'https://www.ndtv.com/india-news/anti-corruption-body-arrests-2-for-rs-1-030-crore-mp-e-tender-scam-2355733', 'https://www.ndtv.com/india-news/statehood-day-of-manipur-tripura-and-meghalaya-pm-modi-president-others-tweet-greetings-2355724', 'https://www.ndtv.com/india-news/avian-influenza-in-poultry-birds-confirmed-in-six-states-so-far-2355699', 'https://www.ndtv.com/india-news/sensex-hits-record-high-of-over-50-000-all-sectoral-indices-in-green-2355698', 'https://www.ndtv.com/india-news/on-statehood-day-of-manipur-meghalaya-tripura-pm-narendra-modis-message-2355692', 'https://www.ndtv.com/india-news/indias-envoy-in-us-taranjit-singh-sandhu-attends-joe-bidens-inauguration-says-looking-forward-to-working-with-biden-2355679', 'https://www.ndtv.com/india-news/aditya-birla-group-senior-vice-president-ranjan-banerjee-joins-bjp-2355673', 'https://www.ndtv.com/india-news/coronavirus-cases-farmers-protests-and-bird-flu-live-updates-active-caseload-of-covid-19-slips-below-2-lakh-2355660', 'https://www.ndtv.com/india-news/former-arunachal-pradesh-governor-mata-prasad-dies-at-95-2355641', 'https://www.ndtv.com/india-news/covid-negative-report-not-mandatory-for-entering-lord-jagannath-temple-in-puri-from-thursday-2355634', 'https://www.ndtv.com/india-news/pm-modi-tweets-as-kamala-harris-becomes-us-vice-president-historic-occasion-2355633', 'https://www.ndtv.com/india-news/reliance-futures-rs-24-000-crore-deal-cleared-by-market-regulator-sebi-2355626', 'https://www.ndtv.com/india-news/indian-french-rafale-fighters-begin-bilateral-air-exercise-desert-knight-wargames-in-rajasthan-2355616', 'https://www.ndtv.com/india-news/maratha-quota-supreme-court-to-hear-schedule-of-hearing-pleas-on-february-5-2355613', 'https://www.ndtv.com/india-news/bjp-mp-demands-actions-against-makers-of-mirzapur-web-series-2355612', 'https://www.ndtv.com/india-news/watch-tamil-nadu-villages-celebrate-a-daughter-us-veep-kamala-harris-2355611', 'https://www.ndtv.com/india-news/coronavirus-india-active-caseload-of-covid-19-slips-below-2-lakh-after-nearly-7-months-2355609', 'https://www.ndtv.com/delhi-news/over-1-200-bird-deaths-reported-in-delhi-since-january-6-report-2355608', 'https://www.ndtv.com/india-news/agriculture-minister-narendra-tomar-asks-farmer-unions-to-form-panel-with-government-officials-over-new-laws-report-2355607', 'https://www.ndtv.com/india-news/new-chapter-of-us-democracy-rahul-gandhi-congratulates-joe-biden-2355605', 'https://www.ndtv.com/delhi-news/quite-amusing-that-delhi-police-land-has-been-encroached-upon-high-court-judge-2355603', 'https://www.ndtv.com/india-news/bjp-wont-project-chief-minister-candidate-for-bengal-polls-kailash-vijayvargiya-2355601', 'https://www.ndtv.com/india-news/calcutta-high-court-rejects-west-bengals-plea-over-cyclone-amphan-relief-audit-2355600', 'https://www.ndtv.com/india-news/1-dead-during-shooting-in-foiled-theft-attempt-delhi-police-2355592', 'https://www.ndtv.com/india-news/will-be-encroachment-on-rights-india-on-chinese-project-on-brahmaputra-2355585', 'https://www.ndtv.com/india-news/no-action-against-dhananjay-munde-till-rape-charges-proved-sharad-pawar-2355583', 'https://www.ndtv.com/india-news/pm-modi-congratulates-joe-biden-on-becoming-us-president-tweets-i-look-forward-to-working-with-him-2355582', 'https://www.ndtv.com/india-news/why-gabbar-was-punished-up-polices-sholay-twist-on-pandemic-2355571', 'https://www.ndtv.com/india-news/coronavirus-post-covid-shot-deaths-unrelated-to-vaccine-health-ministry-2355567', 'https://www.ndtv.com/india-news/assam-all-assam-students-union-to-protest-citizenship-law-on-modi-shah-visit-2355565', 'https://www.ndtv.com/india-news/bombay-high-court-grants-transit-pre-arrest-bail-to-tandav-director-others-2355561', 'https://www.ndtv.com/india-news/family-dies-of-suspected-carbon-monoxide-poisoning-in-haryana-police-2355559', 'https://www.ndtv.com/india-news/nationalist-congress-party-to-fight-goa-assembly-polls-with-like-minded-parties-sharad-pawar-2355556', 'https://www.ndtv.com/india-news/suvendu-adhikari-takes-responisbility-to-ensure-bjp-win-from-nandigram-2355549', 'https://www.ndtv.com/india-news/high-resolution-cameras-to-check-nuisance-in-himachals-atal-tunnel-2355547', 'https://www.ndtv.com/india-news/lottery-ticket-seller-wins-rs-12-crore-jackpot-2355542', 'https://www.ndtv.com/india-news/mahatma-gandhis-statue-at-parliament-moved-to-make-way-for-construction-of-new-building-2355537', 'https://www.ndtv.com/india-news/scenes-snipped-from-tandav-but-trouble-continues-with-more-complaints-2355535', 'https://www.ndtv.com/india-news/strong-winds-improve-delhis-air-quality-weather-office-2355531', 'https://www.ndtv.com/india-news/customs-threatening-government-officials-kerala-chief-minister-on-gold-smuggling-case-2355529', 'https://www.ndtv.com/india-news/2018-aadhaar-verdict-wont-be-reviewed-supreme-court-dismisses-appeals-2355528', 'https://www.ndtv.com/india-news/conditions-of-varavara-raos-detention-cruel-inhuman-high-court-told-2355525', 'https://www.ndtv.com/india-news/top-court-directs-free-education-to-minor-children-of-rape-victim-2355518', 'https://www.ndtv.com/india-news/centre-ready-to-pause-agri-laws-for-a-year-and-a-half-farmers-unions-say-will-consider-offer-2355517', 'https://www.ndtv.com/india-news/day-after-surfacing-in-trinamool-rally-goli-maaro-slogan-back-with-bjp-2355501', 'https://www.ndtv.com/india-news/top-court-rejects-pleas-seeking-review-of-2018-aadhaar-verdict-2355495', 'https://www.ndtv.com/india-news/toilet-complex-demolished-in-up-amid-jai-shri-ram-chants-2355492', 'https://www.ndtv.com/india-news/trinamool-mla-arindam-bhattacharya-who-shared-stage-with-mamata-banerjee-last-week-joins-bjp-2355434', 'https://www.ndtv.com/india-news/sasikala-rushed-to-hospital-on-complaint-of-fever-covid-19-suspected-2355478', 'https://www.ndtv.com/india-news/twitters-brief-action-against-kangana-ranaut-for-now-deleted-tandav-post-2355476', 'https://www.ndtv.com/india-news/kerala-chief-minister-pinarayi-vijayans-remarks-on-centres-airport-move-baseless-union-minister-v-muraleedharan-2355469', 'https://www.ndtv.com/india-news/bail-plea-of-former-tv-ratings-agency-boss-accused-in-scam-rejected-2355465', 'https://www.ndtv.com/india-news/central-probe-agency-cbib-arrests-two-of-its-own-officials-in-bribery-case-2355462', 'https://www.ndtv.com/india-news/karnataka-minister-says-cases-against-cow-vigilantes-will-be-withdrawn-2355455', 'https://www.ndtv.com/telangana-news/telangana-man-dies-after-covid-19-vaccine-jab-official-says-seems-unrelated-to-vaccine-2355454', 'https://www.ndtv.com/india-news/hunar-haat-in-lucknow-when-where-how-can-get-handmade-items-from-across-india-2355448']\n"
          ],
          "name": "stdout"
        }
      ]
    },
    {
      "cell_type": "markdown",
      "metadata": {
        "id": "DXO5_eawIqgS"
      },
      "source": [
        "#For extracting Article_id,Title, Author ,Date, Content and URL from the urls"
      ]
    },
    {
      "cell_type": "code",
      "metadata": {
        "id": "oP0N6PuuCsgA"
      },
      "source": [
        "for url in all_hrefs:#url takes the URL for a particular news\n",
        "  data=[]#stores data for the particular URL\n",
        "  K2=''\n",
        "  data.append(str(all_hrefs.index(url)))#for unique id\n",
        "  data.append((BeautifulSoup(requests.get(url).content).find(\"h1\")).get_text())#for the title\n",
        "  data.append((BeautifulSoup(requests.get(url).content).find(\"span\",attrs={\"itemprop\":\"author\"})).get_text())#for the author's/editor's name\n",
        "  K=((BeautifulSoup(requests.get(url).content).find(\"span\",attrs={\"itemprop\":\"dateModified\"})).get_text().replace('Updated:',''))#for the date\n",
        "  l=K.index(',')+6 #for removing time from date\n",
        "  for i4 in range(l):\n",
        "    K2=K2+K[i4]\n",
        "  data.append(K2)\n",
        "  data.append((BeautifulSoup(requests.get(url).content).find(\"p\")).get_text())#for the content of news\n",
        "  data.append(url)\n",
        "  all_data.append(data)#all the data for various urls"
      ],
      "execution_count": null,
      "outputs": []
    },
    {
      "cell_type": "code",
      "metadata": {
        "id": "iSQYHz-fCsKR"
      },
      "source": [
        ""
      ],
      "execution_count": null,
      "outputs": []
    },
    {
      "cell_type": "markdown",
      "metadata": {
        "id": "_AJtLbKRI-vM"
      },
      "source": [
        "#Dictionary for storing various columns and making of CSV file"
      ]
    },
    {
      "cell_type": "code",
      "metadata": {
        "id": "AZOsDuCoH1gv"
      },
      "source": [
        "fields = ['Article_id','Title','Author','Date','Content','URL']\n",
        "\n",
        "with open('news_articles.csv','w') as dataset:\n",
        "  write = csv.writer(dataset)\n",
        "  write.writerow(fields) \n",
        "  write.writerows(all_data)"
      ],
      "execution_count": null,
      "outputs": []
    },
    {
      "cell_type": "markdown",
      "metadata": {
        "id": "cOSTS3daJ4-G"
      },
      "source": [
        ""
      ]
    },
    {
      "cell_type": "code",
      "metadata": {
        "id": "-ZPCjAMCCrqz"
      },
      "source": [
        ""
      ],
      "execution_count": null,
      "outputs": []
    }
  ]
}